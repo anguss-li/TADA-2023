{
 "cells": [
  {
   "cell_type": "code",
   "execution_count": 1,
   "metadata": {},
   "outputs": [],
   "source": [
    "# Turning into a dataframe because easiest way I can find online to pretty format this\n",
    "import pandas as pd\n",
    "import numpy as np\n",
    "from pickle import load\n",
    "from nltk import download\n",
    "from nltk.corpus import stopwords"
   ]
  },
  {
   "cell_type": "code",
   "execution_count": 2,
   "metadata": {},
   "outputs": [],
   "source": [
    "with open(\"tokens-exploratory/exploratory_table.pickle\", \"rb\") as handle:\n",
    "    token_table = load(handle)\n",
    "\n",
    "token_df = pd.DataFrame.from_dict(token_table, orient=\"index\")"
   ]
  },
  {
   "cell_type": "code",
   "execution_count": 3,
   "metadata": {},
   "outputs": [],
   "source": [
    "with open(\"tokens-exploratory/confidence_intervals.pickle\", \"rb\") as handle:\n",
    "    CI = load(handle)"
   ]
  },
  {
   "cell_type": "code",
   "execution_count": 4,
   "metadata": {},
   "outputs": [],
   "source": [
    "CI = pd.Series(CI)\n",
    "token_df[\"PPMI CI (90%)\"] = CI\n",
    "\n",
    "split_CI = pd.DataFrame(\n",
    "    token_df[\"PPMI CI (90%)\"].to_list(), columns=[\"min\", \"max\"], index=token_df.index\n",
    ")\n",
    "token_df[\"PPMI Significant\"] = np.where((0 < split_CI[\"min\"]), True, False)"
   ]
  },
  {
   "cell_type": "code",
   "execution_count": 5,
   "metadata": {},
   "outputs": [],
   "source": [
    "with open(\"embeddings-exploratory/alc_steptwo.pickle\", \"rb\") as handle:\n",
    "    embedding_table = load(handle)\n",
    "\n",
    "embedding_df = pd.DataFrame.from_dict(embedding_table)\n",
    "embedding_df = embedding_df.set_index(\"token\")\n",
    "embedding_df = embedding_df.rename(\n",
    "    columns={\"ground truth\": \"beta\", \"CI\": \"beta CI (90%)\", \"p-value\": \"beta p-value\"}\n",
    ")"
   ]
  },
  {
   "cell_type": "code",
   "execution_count": 6,
   "metadata": {},
   "outputs": [],
   "source": [
    "df = pd.concat([token_df, embedding_df], axis=1)\n",
    "\n",
    "# Filter out stopwords using nltk and words not used by female speakers\n",
    "stop = set(stopwords.words(\"english\"))\n",
    "filtered_df = df.loc[(~df.index.isin(stop)) & (df[\"PPMI\"] != None)]\n",
    "filtered_df = filtered_df.loc[(df[\"M count\"] > 10) & (df[\"F count\"] > 10)]\n",
    "filtered_df = filtered_df.sort_values(by=[\"total\"])\n",
    "\n",
    "# filtered_df[0:30]"
   ]
  },
  {
   "cell_type": "code",
   "execution_count": 7,
   "metadata": {},
   "outputs": [],
   "source": [
    "ALPHA = 0.05\n",
    "\n",
    "is_dependent = (df[\"PPMI Significant\"]) & (df[\"PPMI\"]) > 0\n",
    "is_correlated = df[\"beta p-value\"] < ALPHA\n",
    "\n",
    "dependent_correlated = filtered_df.loc[is_dependent & is_correlated]\n",
    "dependent_uncorrelated = filtered_df.loc[is_dependent & ~is_correlated]\n",
    "independent_correlated = filtered_df.loc[~is_dependent & is_correlated]\n",
    "independent_uncorrelated = filtered_df.loc[~is_dependent & ~is_correlated]"
   ]
  },
  {
   "cell_type": "code",
   "execution_count": 8,
   "metadata": {},
   "outputs": [
    {
     "data": {
      "text/plain": [
       "M count                                                        113\n",
       "F count                                                         67\n",
       "total                                                          180\n",
       "M ratio                                                   0.627778\n",
       "F ratio                                                   0.372222\n",
       "F - M                                                    -0.255556\n",
       "PPMI                                                      1.337579\n",
       "PPMI CI (90%)             [0.9207787708367393, 1.6723492227837264]\n",
       "PPMI Significant                                              True\n",
       "beta                                         [0.20967594220578925]\n",
       "beta CI (90%)       [[0.18494049368511248], [0.21590977369175252]]\n",
       "beta p-value                                               [0.155]\n",
       "Name: woman, dtype: object"
      ]
     },
     "execution_count": 8,
     "metadata": {},
     "output_type": "execute_result"
    }
   ],
   "source": [
    "df.loc[\"woman\"]"
   ]
  },
  {
   "cell_type": "code",
   "execution_count": 9,
   "metadata": {},
   "outputs": [
    {
     "data": {
      "text/plain": [
       "M count                                                         56\n",
       "F count                                                         37\n",
       "total                                                           93\n",
       "M ratio                                                   0.602151\n",
       "F ratio                                                   0.397849\n",
       "F - M                                                    -0.204301\n",
       "PPMI                                                       1.43364\n",
       "PPMI CI (90%)               [0.88135432254151, 1.8201207933988939]\n",
       "PPMI Significant                                              True\n",
       "beta                                          [0.2845088396204297]\n",
       "beta CI (90%)       [[0.24424212982552576], [0.29478071903956393]]\n",
       "beta p-value                                               [0.189]\n",
       "Name: man, dtype: object"
      ]
     },
     "execution_count": 9,
     "metadata": {},
     "output_type": "execute_result"
    }
   ],
   "source": [
    "df.loc[\"man\"]"
   ]
  },
  {
   "cell_type": "code",
   "execution_count": 10,
   "metadata": {},
   "outputs": [],
   "source": [
    "filtered_df.to_csv(\"concatenated_results_table.csv\")\n",
    "\n",
    "independent_correlated.to_csv(\"quadrants/independent_correlated.csv\")\n",
    "independent_uncorrelated.to_csv(\"quadrants/independent_uncorrelated.csv\")\n",
    "dependent_correlated.to_csv(\"quadrants/dependent_correlated.csv\")\n",
    "dependent_uncorrelated.to_csv(\"quadrants/dependent_uncorrelated.csv\")"
   ]
  },
  {
   "cell_type": "code",
   "execution_count": null,
   "metadata": {},
   "outputs": [],
   "source": []
  }
 ],
 "metadata": {
  "kernelspec": {
   "display_name": "nlp-research",
   "language": "python",
   "name": "python3"
  },
  "language_info": {
   "codemirror_mode": {
    "name": "ipython",
    "version": 3
   },
   "file_extension": ".py",
   "mimetype": "text/x-python",
   "name": "python",
   "nbconvert_exporter": "python",
   "pygments_lexer": "ipython3",
   "version": "3.8.16"
  },
  "orig_nbformat": 4
 },
 "nbformat": 4,
 "nbformat_minor": 2
}
