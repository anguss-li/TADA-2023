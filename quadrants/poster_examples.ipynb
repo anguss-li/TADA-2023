{
 "cells": [
  {
   "cell_type": "code",
   "execution_count": 1,
   "metadata": {},
   "outputs": [],
   "source": [
    "from typing import List, Dict\n",
    "\n",
    "import regex as re\n",
    "from convokit import Corpus, Speaker, Utterance\n",
    "import numpy as np\n",
    "from pickle import load"
   ]
  },
  {
   "cell_type": "code",
   "execution_count": 2,
   "metadata": {},
   "outputs": [],
   "source": [
    "supreme = Corpus(filename=\"../supreme_full_processed_lem\")"
   ]
  },
  {
   "cell_type": "code",
   "execution_count": 3,
   "metadata": {},
   "outputs": [],
   "source": [
    "def get_utterances(token: str) -> List[Dict[str, str]]:\n",
    "    subcorpus = supreme.filter_utterances_by(\n",
    "        lambda utt: token in utt.meta[\"lem-tokens\"]\n",
    "    )\n",
    "    return [dictify_utt(utt) for utt in subcorpus.iter_utterances()]\n",
    "\n",
    "\n",
    "def dictify_utt(utt: Utterance) -> Dict[str, str]:\n",
    "    return {\n",
    "        \"text\": utt.text,\n",
    "        \"gender\": utt.get_speaker().meta[\"gender_signal\"],\n",
    "        \"speaker-id\": utt.get_speaker().id,\n",
    "    }"
   ]
  },
  {
   "cell_type": "code",
   "execution_count": 7,
   "metadata": {},
   "outputs": [],
   "source": [
    "import pprint"
   ]
  },
  {
   "cell_type": "code",
   "execution_count": 8,
   "metadata": {},
   "outputs": [
    {
     "name": "stdout",
     "output_type": "stream",
     "text": [
      "{'gender': 'F',\n",
      " 'speaker-id': 'lisa_s_blatt',\n",
      " 'text': 'so you took this case on the assumption -- and we cite it on page '\n",
      "         '<number> of our reply brief -- all the places where the respondent '\n",
      "         'concedes, and the montana supreme court expressly said, that this '\n",
      "         \"money has to be used to carry out the remedy. and that's the way \"\n",
      "         'this case comes up. if you want to know the reason for sunburst, '\n",
      "         \"it's because of the reason is personal. so, if you own a property \"\n",
      "         \"and love it so much and you don't have any damages, the whole point \"\n",
      "         'of the restoration remedy to avoid the windfall is you have to spend '\n",
      "         \"the money. so i'm quite confident that i'm accurately stating \"\n",
      "         'montana law and that respondents never argued to the contrary. and '\n",
      "         'in our reply brief, again, we cite all the concessions, including, i '\n",
      "         'think, the opinion below in three places says the money has to go to '\n",
      "         \"a trustee and that money has to be spent on the cleanup. and i'm \"\n",
      "         'agreeing with you that key to the preemption argument is that under '\n",
      "         'state law, they will be forced to carry out a remedy that would '\n",
      "         \"violate epa's orders, these administrative orders, if we carried it \"\n",
      "         'out itself.'}\n"
     ]
    }
   ],
   "source": [
    "pprint.pprint(get_utterances(\"state\")[34])"
   ]
  },
  {
   "cell_type": "code",
   "execution_count": 9,
   "metadata": {},
   "outputs": [
    {
     "name": "stdout",
     "output_type": "stream",
     "text": [
      "{'gender': 'M',\n",
      " 'speaker-id': 'derek_l_shaffer',\n",
      " 'text': \"i'm -- i'm not urging that, and i don't think the court needs to \"\n",
      "         \"reexamine that because there isn't the same sort of congruence and \"\n",
      "         'proportionality problem. part of what was at issue i think in city '\n",
      "         'of boerne, and rightfully concerned the court, is congress was '\n",
      "         'redefining the substantive law. it was intruding upon the '\n",
      "         'substantive conduct of states and basically changing the substantive '\n",
      "         \"rules of what would constitute a constitutional violation. that's \"\n",
      "         'not what you have here, respectfully, justice alito. this is '\n",
      "         'congress looking at something that is a cardinal sin. it is states '\n",
      "         \"infringing federal copyrights, protected federal property. and it's \"\n",
      "         \"-- it's enacting a remedy that is precisely tailored to that. states \"\n",
      "         'have to pay what any private infringer would pay. states have to pay '\n",
      "         'what they would insist an infringer of their protected copyrights '\n",
      "         \"pay. that's all congress was doing in the crca. and i don't think \"\n",
      "         'that there should be the same sort of empirical scepticism on the '\n",
      "         \"court's part, especially given the fact that congress was so clear \"\n",
      "         'about why the problem was newly emerging and why, to use the words '\n",
      "         'that are found in the legislative record, this was just the tip of '\n",
      "         'the iceberg, because copyright holders, small businesses, individual '\n",
      "         'authors, did not have the means, did not have the incentives to be '\n",
      "         'going to court and reporting instances of deprivation.'}\n"
     ]
    }
   ],
   "source": [
    "pprint.pprint(get_utterances(\"state\")[8])"
   ]
  },
  {
   "cell_type": "code",
   "execution_count": 10,
   "metadata": {},
   "outputs": [
    {
     "name": "stdout",
     "output_type": "stream",
     "text": [
      "{'gender': 'M',\n",
      " 'speaker-id': 'eric_f_citron',\n",
      " 'text': 'i -- i think the simplest understanding is the following. the code '\n",
      "         'revision commission is in two critical respects like the legislature '\n",
      "         'or exercising a legislative or law-making function. first, it '\n",
      "         'discharges its duties entirely for the behest -- at the behest of '\n",
      "         'and for the benefit of the legislature, and the georgia supreme '\n",
      "         'court has told us that this is an exercise of the legislative '\n",
      "         'authority for purposes of georgia constitutional law. so trying to '\n",
      "         'draw some line between the code revision commission and the '\n",
      "         'legislature would be, i think, inauthentic. on top of that, code '\n",
      "         'revision commissions are exercising a legislative function. they '\n",
      "         'assemble the text of the statutes. if you were to adopt a rule that '\n",
      "         'the code revision commission does not speak for the state, in states '\n",
      "         'like new york, where the statutory text is put together by a code '\n",
      "         'revision commission, you could copyright the statutory text itself '\n",
      "         \"because those statutory texts are just evidence of the law. they're \"\n",
      "         'not binding or the force of law vis-a-vis the statutes at large or '\n",
      "         'the like. and but for section <number>, title <number> of the u.s. '\n",
      "         'code could be copyrighted too.'}\n"
     ]
    }
   ],
   "source": [
    "pprint.pprint(get_utterances(\"state\")[209])"
   ]
  },
  {
   "cell_type": "code",
   "execution_count": 11,
   "metadata": {},
   "outputs": [
    {
     "name": "stdout",
     "output_type": "stream",
     "text": [
      "{'gender': 'M',\n",
      " 'speaker-id': 'jonathan_c_bond',\n",
      " 'text': \"i don't think it's because the state has used the label. the \"\n",
      "         'eleventh circuit pointed out that in the context of that particular '\n",
      "         'scheme, it was quite implausible that the -- the -- the state '\n",
      "         'legislature, i think it was alabama, intended that the highest level '\n",
      "         'of its scheme not to become an acca predicate and not to involve '\n",
      "         'conduct that would give rise to this kind of inference, even though '\n",
      "         \"lower level offenses did. it's a context-specific thing. and we're \"\n",
      "         'not suggesting that this case turns on exactly where you draw the '\n",
      "         'line, and where the -- where the eleventh circuit drew it or where '\n",
      "         'the fourth circuit drew it with respect to that <number> gram '\n",
      "         'threshold.'}\n"
     ]
    }
   ],
   "source": [
    "pprint.pprint(get_utterances(\"state\")[543])"
   ]
  },
  {
   "cell_type": "code",
   "execution_count": 13,
   "metadata": {},
   "outputs": [
    {
     "name": "stdout",
     "output_type": "stream",
     "text": [
      "{'gender': 'F',\n",
      " 'speaker-id': 'erica_l_ross',\n",
      " 'text': 'so, justice alito, i certainly take the point that arbitrators may '\n",
      "         'not be bound in the same way that lower courts would be. i think '\n",
      "         'where you have a situation -- although, actually, in the second '\n",
      "         \"circuit, there is a case overturning an arbitrator's decision for \"\n",
      "         'failing to follow second circuit law and following other courts. i '\n",
      "         'take the point that this court might not agree with that decision. '\n",
      "         'but i think when you have a case like this one where you have '\n",
      "         '<number> arbitrations on one side of the ledger and zero on the '\n",
      "         \"other, you don't actually need to decide these sort of more \"\n",
      "         'difficult edge cases about what would happen if it were closer or if '\n",
      "         'you really had a question as to what law the arbitrators were '\n",
      "         \"applying. it's quite clear in these, again, reported, well-reasoned, \"\n",
      "         'quite predictable after, you know, the first <number> or so, '\n",
      "         'arbitration decisions.'}\n"
     ]
    }
   ],
   "source": [
    "pprint.pprint(get_utterances(\"way\")[76])"
   ]
  },
  {
   "cell_type": "code",
   "execution_count": 14,
   "metadata": {},
   "outputs": [
    {
     "name": "stdout",
     "output_type": "stream",
     "text": [
      "{'gender': 'F',\n",
      " 'speaker-id': 'erica_l_ross',\n",
      " 'text': 'so i think, justice alito, the way i would phrase it, if i might, is '\n",
      "         'that the -- the arbitration decisions are really confirmation of the '\n",
      "         \"industry's understanding because these are expert arbitrators. and, \"\n",
      "         'again, going back to where i started this morning, the industry had '\n",
      "         'and has had, i believe since the 1950s, two sort of standard form '\n",
      "         'contracts that govern. and so it is consistent with that dichotomy '\n",
      "         'between --'}\n"
     ]
    }
   ],
   "source": [
    "pprint.pprint(get_utterances(\"way\")[77])"
   ]
  },
  {
   "cell_type": "code",
   "execution_count": 15,
   "metadata": {},
   "outputs": [
    {
     "name": "stdout",
     "output_type": "stream",
     "text": [
      "{'gender': 'M',\n",
      " 'speaker-id': 'elbert_lin',\n",
      " 'text': 'if i may, i would quarrel with your use of the word \"evasion,\" '\n",
      "         \"because i think what's important to remember is it's a comprehensive \"\n",
      "         \"scheme. congress didn't design a -- it didn't just put the point \"\n",
      "         'source program out into the world on a hope and a prayer that there '\n",
      "         'would be some other regulatory program that would cover the other '\n",
      "         \"scenarios, including the one that you're talking about, justice \"\n",
      "         'breyer. there -- there is a nonpoint source program. there are laws, '\n",
      "         'including in hawaii, that would explicitly prohibit the scenario '\n",
      "         \"that you're talking about. hawaii code 354d -- three -- \"\n",
      "         \"354d-<number>, it says that you can't alter the way your -- your -- \"\n",
      "         'your discharge system is structured without permission from the '\n",
      "         'director of --'}\n"
     ]
    }
   ],
   "source": [
    "pprint.pprint(get_utterances(\"way\")[89])"
   ]
  },
  {
   "cell_type": "code",
   "execution_count": 16,
   "metadata": {},
   "outputs": [
    {
     "name": "stdout",
     "output_type": "stream",
     "text": [
      "{'gender': 'M',\n",
      " 'speaker-id': 'jeffrey_l_fisher',\n",
      " 'text': 'justice kagan, what we think is that if you want to give a '\n",
      "         'definition for sexual abuse of a minor, at least in the context of '\n",
      "         'the allegation of abuse being due to age, that <number> would be the '\n",
      "         'appropriate cutoff. and we do say that in our reply brief in '\n",
      "         \"response to the government's point that, at least its arguments, \"\n",
      "         'that you need to go further than we argued in our blue brief.'}\n"
     ]
    }
   ],
   "source": [
    "pprint.pprint(get_utterances(\"abuse\")[34])"
   ]
  },
  {
   "cell_type": "code",
   "execution_count": 20,
   "metadata": {},
   "outputs": [
    {
     "name": "stdout",
     "output_type": "stream",
     "text": [
      "{'gender': 'M',\n",
      " 'speaker-id': 'matthew_s_hellman',\n",
      " 'text': \"i suppose you could, but there's a difference as to why i think the \"\n",
      "         'statute ought to tolerate prosecution in that scenario, which is '\n",
      "         \"where there's been a formal notice of audit and someone has been \"\n",
      "         'given questions by the government and needs to respond in a '\n",
      "         'reasonable manner to them. you can understand why congress wanted to '\n",
      "         'make that a crime distinct from, maybe on top of, other crimes that '\n",
      "         \"a person has committed. but if we're talking about the maintenance \"\n",
      "         'of records prior to the initiation of that proceeding, then there '\n",
      "         'are many other crimes that do cover recordkeeping and, of course, '\n",
      "         'your obligation to pay taxes. but those are generally, with the '\n",
      "         'exception of tax evasion, generally not felonies and they generally '\n",
      "         'have a lower sentence than the one here. so i do take your point '\n",
      "         'that there could be the potential for abuse, even under our '\n",
      "         \"interpretation, but i do think that it's significantly narrowed just \"\n",
      "         'for the reasons that i said.'}\n"
     ]
    }
   ],
   "source": [
    "pprint.pprint(get_utterances(\"abuse\")[98])"
   ]
  },
  {
   "cell_type": "code",
   "execution_count": 21,
   "metadata": {},
   "outputs": [
    {
     "name": "stdout",
     "output_type": "stream",
     "text": [
      "{'gender': 'F',\n",
      " 'speaker-id': 'alexandra_a_e_shapiro',\n",
      " 'text': 'mr. chief justice, and may it please the court: in case after case '\n",
      "         '-- mcnally, skilling, and mcdonald, to name just a few -- this court '\n",
      "         'has construed federal criminal statutes narrowly to avoid serious '\n",
      "         'separation of powers and vagueness problems. this case presents '\n",
      "         'those same constitutional concerns, but to a far greater degree, '\n",
      "         'because no statute defines the elements of the crime. the court '\n",
      "         'should limit this crime to its core, as it did in skilling, and that '\n",
      "         \"core is the insider's abuse of confidential corporate information \"\n",
      "         'for personal profit. unless and until congress enacts a definition, '\n",
      "         'the crime should be limited to trading by the insider or its '\n",
      "         'functional equivalent -- equivalent where the insider tips another '\n",
      "         'person in exchange for a financial benefit.'}\n"
     ]
    }
   ],
   "source": [
    "pprint.pprint(get_utterances(\"abuse\")[65])"
   ]
  },
  {
   "cell_type": "code",
   "execution_count": 23,
   "metadata": {},
   "outputs": [
    {
     "name": "stdout",
     "output_type": "stream",
     "text": [
      "{'gender': 'M',\n",
      " 'speaker-id': 'k_winn_allen',\n",
      " 'text': 'i agree with ms. ratner on this. i -- i -- i think there is some '\n",
      "         'daylight between plain error and abuse of discretion, probably not '\n",
      "         'much. i do think many sentences that are deemed substantively '\n",
      "         \"unreasonable will like satisfy plain error review. but i don't think \"\n",
      "         'the --'}\n"
     ]
    }
   ],
   "source": [
    "pprint.pprint(get_utterances(\"abuse\")[13])"
   ]
  }
 ],
 "metadata": {
  "kernelspec": {
   "display_name": "nlp-research",
   "language": "python",
   "name": "python3"
  },
  "language_info": {
   "codemirror_mode": {
    "name": "ipython",
    "version": 3
   },
   "file_extension": ".py",
   "mimetype": "text/x-python",
   "name": "python",
   "nbconvert_exporter": "python",
   "pygments_lexer": "ipython3",
   "version": "3.8.16"
  },
  "orig_nbformat": 4
 },
 "nbformat": 4,
 "nbformat_minor": 2
}
