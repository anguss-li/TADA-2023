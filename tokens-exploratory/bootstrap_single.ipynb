{
 "cells": [
  {
   "cell_type": "code",
   "execution_count": 1,
   "metadata": {},
   "outputs": [],
   "source": [
    "from typing import List\n",
    "\n",
    "import pandas as pd\n",
    "import numpy as np\n",
    "from convokit import Corpus, Utterance"
   ]
  },
  {
   "cell_type": "code",
   "execution_count": 2,
   "metadata": {},
   "outputs": [],
   "source": [
    "from final import *\n",
    "\n",
    "%load_ext autoreload\n",
    "%autoreload 2"
   ]
  },
  {
   "cell_type": "code",
   "execution_count": 3,
   "metadata": {},
   "outputs": [],
   "source": [
    "RANDOM_SEED = 375\n",
    "BOOTSTRAP_SIZE = 10"
   ]
  },
  {
   "cell_type": "code",
   "execution_count": 4,
   "metadata": {},
   "outputs": [],
   "source": [
    "def get_table_from_corpus(corpus: Corpus) -> pd.DataFrame:\n",
    "    # We turn into pandas df to quickly access column data later\n",
    "    counts = get_counts(corpus)\n",
    "    table = get_table(counts)\n",
    "    df = pd.DataFrame.from_dict(table, orient='index')\n",
    "    return df\n",
    "\n",
    "def bootstrap_corpus(rng: np.random.Generator, corpus: Corpus) -> Corpus:\n",
    "    # Miraculously no type casting needed! :)\n",
    "    utts = [utt for utt in corpus.iter_utterances()]\n",
    "    chosen_utts = rng.choice(utts, size=len(utts), replace=True)\n",
    "    new_corpus = Corpus(utterances=chosen_utts)\n",
    "    return new_corpus"
   ]
  },
  {
   "cell_type": "code",
   "execution_count": 5,
   "metadata": {},
   "outputs": [],
   "source": [
    "ground_truth_corpus = get_corpus()\n",
    "rng = np.random.default_rng(RANDOM_SEED)"
   ]
  },
  {
   "cell_type": "code",
   "execution_count": 6,
   "metadata": {},
   "outputs": [
    {
     "data": {
      "text/plain": [
       "<convokit.model.corpus.Corpus at 0x7fc484474d60>"
      ]
     },
     "execution_count": 6,
     "metadata": {},
     "output_type": "execute_result"
    }
   ],
   "source": [
    "# Testing bootstrap_corpus\n",
    "bootstrap_corpus(rng, ground_truth_corpus)"
   ]
  },
  {
   "cell_type": "code",
   "execution_count": 7,
   "metadata": {},
   "outputs": [],
   "source": [
    "def bootstrap(statistic: str, size: int = BOOTSTRAP_SIZE) -> List[pd.Series]:\n",
    "    results = []\n",
    "    for _ in range(BOOTSTRAP_SIZE):\n",
    "        corpus = bootstrap_corpus(rng, ground_truth_corpus)\n",
    "        table = get_table_from_corpus(corpus)\n",
    "        column = table[statistic]\n",
    "        results.append(column)\n",
    "    return results"
   ]
  },
  {
   "cell_type": "code",
   "execution_count": 8,
   "metadata": {},
   "outputs": [],
   "source": [
    "results = bootstrap(statistic=\"PPMI\")"
   ]
  },
  {
   "cell_type": "code",
   "execution_count": null,
   "metadata": {},
   "outputs": [],
   "source": []
  }
 ],
 "metadata": {
  "kernelspec": {
   "display_name": "nlp-research",
   "language": "python",
   "name": "python3"
  },
  "language_info": {
   "codemirror_mode": {
    "name": "ipython",
    "version": 3
   },
   "file_extension": ".py",
   "mimetype": "text/x-python",
   "name": "python",
   "nbconvert_exporter": "python",
   "pygments_lexer": "ipython3",
   "version": "3.8.16"
  },
  "orig_nbformat": 4
 },
 "nbformat": 4,
 "nbformat_minor": 2
}
