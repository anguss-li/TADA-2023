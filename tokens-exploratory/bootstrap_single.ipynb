{
 "cells": [
  {
   "cell_type": "code",
   "execution_count": 2,
   "metadata": {},
   "outputs": [],
   "source": [
    "from typing import List\n",
    "\n",
    "import pandas as pd\n",
    "import numpy as np\n",
    "from convokit import Corpus, Utterance"
   ]
  },
  {
   "cell_type": "code",
   "execution_count": 3,
   "metadata": {},
   "outputs": [],
   "source": [
    "from final import *\n",
    "\n",
    "%load_ext autoreload\n",
    "%autoreload 2"
   ]
  },
  {
   "cell_type": "code",
   "execution_count": 4,
   "metadata": {},
   "outputs": [],
   "source": [
    "RANDOM_SEED = 375\n",
    "BOOTSTRAP_SIZE = 10\n",
    "STATISTIC = \"PPMI\""
   ]
  },
  {
   "cell_type": "code",
   "execution_count": 5,
   "metadata": {},
   "outputs": [],
   "source": [
    "def get_table_from_corpus(corpus: Corpus) -> pd.DataFrame:\n",
    "    # We turn into pandas df to quickly access column data later\n",
    "    counts = get_counts(corpus)\n",
    "    table = get_table(counts)\n",
    "    df = pd.DataFrame.from_dict(table, orient=\"index\")\n",
    "    return df\n",
    "\n",
    "\n",
    "def bootstrap_corpus(rng: np.random.Generator, corpus: Corpus) -> Corpus:\n",
    "    # Miraculously no type casting needed! :)\n",
    "    utts = [utt for utt in corpus.iter_utterances()]\n",
    "    chosen_utts = rng.choice(utts, size=len(utts), replace=True)\n",
    "    new_corpus = Corpus(utterances=chosen_utts)\n",
    "    return new_corpus"
   ]
  },
  {
   "cell_type": "code",
   "execution_count": 6,
   "metadata": {},
   "outputs": [],
   "source": [
    "ground_truth_corpus = get_corpus()\n",
    "rng = np.random.default_rng(RANDOM_SEED)"
   ]
  },
  {
   "cell_type": "code",
   "execution_count": 7,
   "metadata": {},
   "outputs": [
    {
     "data": {
      "text/plain": [
       "<convokit.model.corpus.Corpus at 0x7f36a129dd00>"
      ]
     },
     "execution_count": 7,
     "metadata": {},
     "output_type": "execute_result"
    }
   ],
   "source": [
    "# Testing bootstrap_corpus\n",
    "bootstrap_corpus(rng, ground_truth_corpus)"
   ]
  },
  {
   "cell_type": "code",
   "execution_count": 12,
   "metadata": {},
   "outputs": [],
   "source": [
    "def bootstrap(statistic: str, size: int = BOOTSTRAP_SIZE) -> np.array:\n",
    "    results = []\n",
    "    for _ in range(BOOTSTRAP_SIZE):\n",
    "        corpus = bootstrap_corpus(rng, ground_truth_corpus)\n",
    "        table = get_table_from_corpus(corpus)\n",
    "        column = np.asarray(table[statistic].array)\n",
    "        results.append(column)\n",
    "    # Shape: (v * b), where v is size of vocabulary and b is bootstrap iterations\n",
    "    return results"
   ]
  },
  {
   "cell_type": "code",
   "execution_count": 13,
   "metadata": {},
   "outputs": [],
   "source": [
    "results = bootstrap(statistic=STATISTIC)"
   ]
  },
  {
   "cell_type": "code",
   "execution_count": 14,
   "metadata": {},
   "outputs": [
    {
     "name": "stdout",
     "output_type": "stream",
     "text": [
      "[<PandasArray>\n",
      "[                0.0, 0.04322326657129941,  0.3542707989050328,\n",
      " 0.02539740600682824,  0.0165649653785753,    0.32473881582695,\n",
      " 0.44212182565831654,                 0.0,                 0.0,\n",
      " 0.02843036049709437,\n",
      " ...\n",
      "                 nan,    2.77404621719054,    2.77404621719054,\n",
      "    2.77404621719054,                 nan,                 nan,\n",
      "                 nan,                 nan,                 nan,\n",
      "                 nan]\n",
      "Length: 16205, dtype: float64, <PandasArray>\n",
      "[                 0.0,   0.3283469101916376, 0.022136203327381344,\n",
      "                  0.0, 0.019737569373768353,    0.536092555563684,\n",
      "                  0.0,   0.8172993361401019,  0.05418149726115731,\n",
      "                  0.0,\n",
      " ...\n",
      "                  nan,                  nan,                  nan,\n",
      "                  nan,                  nan,                  nan,\n",
      "                  nan,                  nan,                  nan,\n",
      "   2.7731317528645336]\n",
      "Length: 16183, dtype: float64, <PandasArray>\n",
      "[0.017645896136007033,  0.23933602068957938,                  0.0,\n",
      "  0.14139538147563324,                  0.0,                  0.0,\n",
      "                  0.0,                  0.0,                  0.0,\n",
      "                  0.0,\n",
      " ...\n",
      "                  nan,                  nan,                  nan,\n",
      "                  nan,                  nan,    2.771711559316516,\n",
      "    2.771711559316516,                  nan,                  nan,\n",
      "                  nan]\n",
      "Length: 16217, dtype: float64, <PandasArray>\n",
      "[                0.0,                 0.0,                 0.0,\n",
      "                 0.0,  0.1473049467727351,  0.2442473620658523,\n",
      " 0.06593180703915555,                 0.0, 0.06565194944155146,\n",
      "                 0.0,\n",
      " ...\n",
      "                 nan,                 nan,                 nan,\n",
      "                 nan,                 nan,                 nan,\n",
      "                 nan,                 nan,                 nan,\n",
      "                 nan]\n",
      "Length: 16155, dtype: float64, <PandasArray>\n",
      "[                 0.0, 0.024059069239616503,                  0.0,\n",
      "                  0.0,                  0.0,   0.0594565208294842,\n",
      "  0.05167403138007754,  0.04765857740748986,  0.06277317279449782,\n",
      "                  0.0,\n",
      " ...\n",
      "                  nan,                  nan,                  nan,\n",
      "                  nan,                  nan,                  nan,\n",
      "                  nan,                  nan,                  nan,\n",
      "                  nan]\n",
      "Length: 16126, dtype: float64, <PandasArray>\n",
      "[ 0.11075923516828853,                  0.0, 0.009688545074124517,\n",
      "  0.05848905295863413,  0.06303091894247236,                  0.0,\n",
      "  0.43882087423875477,  0.04144594590663769, 0.014270042917479362,\n",
      "                  0.0,\n",
      " ...\n",
      "    2.749160994850905,                  nan,                  nan,\n",
      "                  nan,                  nan,                  nan,\n",
      "                  nan,                  nan,                  nan,\n",
      "                  nan]\n",
      "Length: 16177, dtype: float64, <PandasArray>\n",
      "[  1.1527747655204414,  0.10596687512276212,  0.07299370999304895,\n",
      " 0.029741327844343836,   0.2598936104904197,  0.06250457751757317,\n",
      " 0.062061201769614195,  0.16619528128276295,                  0.0,\n",
      "  0.26971531103103263,\n",
      " ...\n",
      "                  nan,                  nan,                  nan,\n",
      "                  nan,                  nan,                  nan,\n",
      "                  nan,                  nan,                  nan,\n",
      "   2.7377372662415973]\n",
      "Length: 16005, dtype: float64, <PandasArray>\n",
      "[                 0.0,                  nan,   0.8981503308882128,\n",
      "                  0.0, 0.011586089875119106,                  0.0,\n",
      "   0.2514055359860073,  0.01859956523006277,  0.03198050655487641,\n",
      "  0.21630740173554255,\n",
      " ...\n",
      "                  nan,                  nan,                  nan,\n",
      "                  nan,                  nan,                  nan,\n",
      "                  nan,                  nan,    2.740609053901733,\n",
      "    2.740609053901733]\n",
      "Length: 16276, dtype: float64, <PandasArray>\n",
      "[   0.29327316653956487,     0.4261152671410127,   0.008693701912434215,\n",
      "    0.12969672168477422,   0.003086430079227329,    0.22245382212358758,\n",
      "     0.1832530502583414, 0.00045546811866665674,     0.0676679845351209,\n",
      "                    0.0,\n",
      " ...\n",
      "                    nan,                    nan,                    nan,\n",
      "                    nan,                    nan,                    nan,\n",
      "                    nan,                    nan,                    nan,\n",
      "                    nan]\n",
      "Length: 16144, dtype: float64, <PandasArray>\n",
      "[ 0.16968980384556082, 0.036379380872702725,                  0.0,\n",
      "                  0.0,                  0.0,  0.21836828526676447,\n",
      "                  0.0,                  0.0,                  0.0,\n",
      "                  0.0,\n",
      " ...\n",
      "                  nan,                  nan,    2.807584435381569,\n",
      "    2.807584435381569,    2.807584435381569,                  nan,\n",
      "                  nan,                  nan,                  nan,\n",
      "                  nan]\n",
      "Length: 16200, dtype: float64]\n"
     ]
    }
   ],
   "source": [
    "print(results)"
   ]
  },
  {
   "cell_type": "code",
   "execution_count": null,
   "metadata": {},
   "outputs": [],
   "source": [
    "def get_p_values(results: np.array, ground_truth: np.array) -> np.array:\n",
    "    \"\"\"This notion of an empirical p-value borrowed from final project\"\"\"\n",
    "    empirical_pvalues = np.divide(results, ground_truth)\n",
    "    empirical_pvalues = np.apply_along_axis(\n",
    "        lambda a: sum(1 if x > 1 else 0 for x in a) / len(a), 0, empirical_pvalues\n",
    "    )\n",
    "    # Shape: (v * 1), where v is the size of the vocabulary\n",
    "    return empirical_pvalues"
   ]
  },
  {
   "cell_type": "code",
   "execution_count": null,
   "metadata": {},
   "outputs": [
    {
     "ename": "ValueError",
     "evalue": "setting an array element with a sequence. The requested array has an inhomogeneous shape after 1 dimensions. The detected shape was (10,) + inhomogeneous part.",
     "output_type": "error",
     "traceback": [
      "\u001b[0;31m---------------------------------------------------------------------------\u001b[0m",
      "\u001b[0;31mValueError\u001b[0m                                Traceback (most recent call last)",
      "Cell \u001b[0;32mIn[15], line 2\u001b[0m\n\u001b[1;32m      1\u001b[0m ground_truth_statistic \u001b[39m=\u001b[39m get_table_from_corpus(ground_truth_corpus)[STATISTIC]\u001b[39m.\u001b[39mto_numpy()\n\u001b[0;32m----> 2\u001b[0m p_values \u001b[39m=\u001b[39m get_p_values(results, ground_truth_statistic)\n",
      "Cell \u001b[0;32mIn[14], line 3\u001b[0m, in \u001b[0;36mget_p_values\u001b[0;34m(results, ground_truth)\u001b[0m\n\u001b[1;32m      1\u001b[0m \u001b[39mdef\u001b[39;00m \u001b[39mget_p_values\u001b[39m(results: np\u001b[39m.\u001b[39marray, ground_truth: np\u001b[39m.\u001b[39marray) \u001b[39m-\u001b[39m\u001b[39m>\u001b[39m np\u001b[39m.\u001b[39marray:\n\u001b[1;32m      2\u001b[0m \u001b[39m    \u001b[39m\u001b[39m\"\"\"This notion of an empirical p-value borrowed from final project\"\"\"\u001b[39;00m\n\u001b[0;32m----> 3\u001b[0m     empirical_pvalues \u001b[39m=\u001b[39m np\u001b[39m.\u001b[39;49mdivide(results, ground_truth)\n\u001b[1;32m      4\u001b[0m     empirical_pvalues \u001b[39m=\u001b[39m np\u001b[39m.\u001b[39mapply_along_axis(\n\u001b[1;32m      5\u001b[0m         \u001b[39mlambda\u001b[39;00m a: \u001b[39msum\u001b[39m(\u001b[39m1\u001b[39m \u001b[39mif\u001b[39;00m x \u001b[39m>\u001b[39m \u001b[39m1\u001b[39m \u001b[39melse\u001b[39;00m \u001b[39m0\u001b[39m \u001b[39mfor\u001b[39;00m x \u001b[39min\u001b[39;00m a) \u001b[39m/\u001b[39m \u001b[39mlen\u001b[39m(a), \u001b[39m0\u001b[39m, empirical_pvalues\n\u001b[1;32m      6\u001b[0m     )\n\u001b[1;32m      7\u001b[0m     \u001b[39m# Shape: (v * 1), where v is the size of the vocabulary\u001b[39;00m\n",
      "\u001b[0;31mValueError\u001b[0m: setting an array element with a sequence. The requested array has an inhomogeneous shape after 1 dimensions. The detected shape was (10,) + inhomogeneous part."
     ]
    }
   ],
   "source": [
    "ground_truth_statistic = get_table_from_corpus(ground_truth_corpus)[STATISTIC].to_numpy()\n",
    "p_values = get_p_values(results, ground_truth_statistic)"
   ]
  }
 ],
 "metadata": {
  "kernelspec": {
   "display_name": "nlp-research",
   "language": "python",
   "name": "python3"
  },
  "language_info": {
   "codemirror_mode": {
    "name": "ipython",
    "version": 3
   },
   "file_extension": ".py",
   "mimetype": "text/x-python",
   "name": "python",
   "nbconvert_exporter": "python",
   "pygments_lexer": "ipython3",
   "version": "3.8.16"
  },
  "orig_nbformat": 4
 },
 "nbformat": 4,
 "nbformat_minor": 2
}
