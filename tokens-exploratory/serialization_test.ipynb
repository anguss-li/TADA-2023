{
 "cells": [
  {
   "cell_type": "code",
   "execution_count": 1,
   "metadata": {},
   "outputs": [],
   "source": [
    "import numpy as np\n",
    "from pickle import load, HIGHEST_PROTOCOL, dump"
   ]
  },
  {
   "cell_type": "code",
   "execution_count": 2,
   "metadata": {},
   "outputs": [],
   "source": [
    "rng = np.random.default_rng(375)\n",
    "with open(\"test.pickle\", \"wb\") as handle:\n",
    "    dump(rng, handle, protocol=HIGHEST_PROTOCOL)"
   ]
  },
  {
   "cell_type": "code",
   "execution_count": 3,
   "metadata": {},
   "outputs": [],
   "source": [
    "from final import *\n",
    "\n",
    "%load_ext autoreload\n",
    "%autoreload 2"
   ]
  },
  {
   "cell_type": "code",
   "execution_count": 4,
   "metadata": {},
   "outputs": [],
   "source": [
    "ground_truth_corpus = get_corpus()\n",
    "ground_truth_utts = [utt for utt in ground_truth_corpus.iter_utterances()]\n",
    "\n",
    "with open(\"test.pickle\", \"wb\") as handle:\n",
    "    dump(ground_truth_utts, handle, protocol=HIGHEST_PROTOCOL)"
   ]
  },
  {
   "cell_type": "code",
   "execution_count": 7,
   "metadata": {},
   "outputs": [
    {
     "ename": "AttributeError",
     "evalue": "'ConvoKitMeta' object has no attribute 'index'",
     "output_type": "error",
     "traceback": [
      "\u001b[0;31m---------------------------------------------------------------------------\u001b[0m",
      "\u001b[0;31mAttributeError\u001b[0m                            Traceback (most recent call last)",
      "Cell \u001b[0;32mIn[7], line 2\u001b[0m\n\u001b[1;32m      1\u001b[0m \u001b[39mwith\u001b[39;00m \u001b[39mopen\u001b[39m(\u001b[39m\"\u001b[39m\u001b[39mtest.pickle\u001b[39m\u001b[39m\"\u001b[39m, \u001b[39m\"\u001b[39m\u001b[39mrb\u001b[39m\u001b[39m\"\u001b[39m) \u001b[39mas\u001b[39;00m handle:\n\u001b[0;32m----> 2\u001b[0m     test \u001b[39m=\u001b[39m load(handle)\n",
      "File \u001b[0;32m~/anaconda3/envs/nlp-research/lib/python3.8/site-packages/convokit/model/convoKitMeta.py:45\u001b[0m, in \u001b[0;36mConvoKitMeta.__setitem__\u001b[0;34m(self, key, value)\u001b[0m\n\u001b[1;32m     42\u001b[0m     warn(\u001b[39m\"\u001b[39m\u001b[39mMetadata attribute keys must be strings. Input key has been casted to a string.\u001b[39m\u001b[39m\"\u001b[39m)\n\u001b[1;32m     43\u001b[0m     key \u001b[39m=\u001b[39m \u001b[39mstr\u001b[39m(key)\n\u001b[0;32m---> 45\u001b[0m \u001b[39mif\u001b[39;00m \u001b[39mself\u001b[39;49m\u001b[39m.\u001b[39;49mindex\u001b[39m.\u001b[39mtype_check:\n\u001b[1;32m     46\u001b[0m     ConvoKitMeta\u001b[39m.\u001b[39m_check_type_and_update_index(\u001b[39mself\u001b[39m\u001b[39m.\u001b[39mindex, \u001b[39mself\u001b[39m\u001b[39m.\u001b[39mobj_type, key, value)\n\u001b[1;32m     47\u001b[0m \u001b[39mdict\u001b[39m\u001b[39m.\u001b[39m\u001b[39m__setitem__\u001b[39m(\u001b[39mself\u001b[39m, key, value)\n",
      "\u001b[0;31mAttributeError\u001b[0m: 'ConvoKitMeta' object has no attribute 'index'"
     ]
    }
   ],
   "source": [
    "with open(\"test.pickle\", \"rb\") as handle:\n",
    "    test = load(handle)"
   ]
  }
 ],
 "metadata": {
  "kernelspec": {
   "display_name": "nlp-research",
   "language": "python",
   "name": "python3"
  },
  "language_info": {
   "codemirror_mode": {
    "name": "ipython",
    "version": 3
   },
   "file_extension": ".py",
   "mimetype": "text/x-python",
   "name": "python",
   "nbconvert_exporter": "python",
   "pygments_lexer": "ipython3",
   "version": "3.8.16"
  },
  "orig_nbformat": 4
 },
 "nbformat": 4,
 "nbformat_minor": 2
}
